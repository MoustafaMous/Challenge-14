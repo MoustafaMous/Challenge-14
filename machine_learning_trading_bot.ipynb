{
  "nbformat": 4,
  "nbformat_minor": 0,
  "metadata": {
    "kernelspec": {
      "display_name": "Python (dev)",
      "language": "python",
      "name": "dev"
    },
    "language_info": {
      "codemirror_mode": {
        "name": "ipython",
        "version": 3
      },
      "file_extension": ".py",
      "mimetype": "text/x-python",
      "name": "python",
      "nbconvert_exporter": "python",
      "pygments_lexer": "ipython3",
      "version": "3.7.7"
    },
    "colab": {
      "name": "machine_learning_trading_bot.ipynb",
      "provenance": [],
      "collapsed_sections": [],
      "include_colab_link": true
    }
  },
  "cells": [
    {
      "cell_type": "markdown",
      "metadata": {
        "id": "view-in-github",
        "colab_type": "text"
      },
      "source": [
        "<a href=\"https://colab.research.google.com/github/MoustafaMous/Challenge-14/blob/main/machine_learning_trading_bot.ipynb\" target=\"_parent\"><img src=\"https://colab.research.google.com/assets/colab-badge.svg\" alt=\"Open In Colab\"/></a>"
      ]
    },
    {
      "cell_type": "markdown",
      "metadata": {
        "id": "w-QZkba7PbzR"
      },
      "source": [
        "# Machine Learning Trading Bot\n",
        "\n",
        "In this Challenge, you’ll assume the role of a financial advisor at one of the top five financial advisory firms in the world. Your firm constantly competes with the other major firms to manage and automatically trade assets in a highly dynamic environment. In recent years, your firm has heavily profited by using computer algorithms that can buy and sell faster than human traders.\n",
        "\n",
        "The speed of these transactions gave your firm a competitive advantage early on. But, people still need to specifically program these systems, which limits their ability to adapt to new data. You’re thus planning to improve the existing algorithmic trading systems and maintain the firm’s competitive advantage in the market. To do so, you’ll enhance the existing trading signals with machine learning algorithms that can adapt to new data.\n",
        "\n",
        "## Instructions:\n",
        "\n",
        "Use the starter code file to complete the steps that the instructions outline. The steps for this Challenge are divided into the following sections:\n",
        "\n",
        "* Establish a Baseline Performance\n",
        "\n",
        "* Tune the Baseline Trading Algorithm\n",
        "\n",
        "* Evaluate a New Machine Learning Classifier\n",
        "\n",
        "* Create an Evaluation Report\n",
        "\n",
        "#### Establish a Baseline Performance\n",
        "\n",
        "In this section, you’ll run the provided starter code to establish a baseline performance for the trading algorithm. To do so, complete the following steps.\n",
        "\n",
        "Open the Jupyter notebook. Restart the kernel, run the provided cells that correspond with the first three steps, and then proceed to step four. \n",
        "\n",
        "1. Import the OHLCV dataset into a Pandas DataFrame.\n",
        "\n",
        "2. Generate trading signals using short- and long-window SMA values. \n",
        "\n",
        "3. Split the data into training and testing datasets.\n",
        "\n",
        "4. Use the `SVC` classifier model from SKLearn's support vector machine (SVM) learning method to fit the training data and make predictions based on the testing data. Review the predictions.\n",
        "\n",
        "5. Review the classification report associated with the `SVC` model predictions. \n",
        "\n",
        "6. Create a predictions DataFrame that contains columns for “Predicted” values, “Actual Returns”, and “Strategy Returns”.\n",
        "\n",
        "7. Create a cumulative return plot that shows the actual returns vs. the strategy returns. Save a PNG image of this plot. This will serve as a baseline against which to compare the effects of tuning the trading algorithm.\n",
        "\n",
        "8. Write your conclusions about the performance of the baseline trading algorithm in the `README.md` file that’s associated with your GitHub repository. Support your findings by using the PNG image that you saved in the previous step.\n",
        "\n",
        "#### Tune the Baseline Trading Algorithm\n",
        "\n",
        "In this section, you’ll tune, or adjust, the model’s input features to find the parameters that result in the best trading outcomes. (You’ll choose the best by comparing the cumulative products of the strategy returns.) To do so, complete the following steps:\n",
        "\n",
        "1. Tune the training algorithm by adjusting the size of the training dataset. To do so, slice your data into different periods. Rerun the notebook with the updated parameters, and record the results in your `README.md` file. Answer the following question: What impact resulted from increasing or decreasing the training window?\n",
        "\n",
        "> **Hint** To adjust the size of the training dataset, you can use a different `DateOffset` value&mdash;for example, six months. Be aware that changing the size of the training dataset also affects the size of the testing dataset.\n",
        "\n",
        "2. Tune the trading algorithm by adjusting the SMA input features. Adjust one or both of the windows for the algorithm. Rerun the notebook with the updated parameters, and record the results in your `README.md` file. Answer the following question: What impact resulted from increasing or decreasing either or both of the SMA windows?\n",
        "\n",
        "3. Choose the set of parameters that best improved the trading algorithm returns. Save a PNG image of the cumulative product of the actual returns vs. the strategy returns, and document your conclusion in your `README.md` file.\n",
        "\n",
        "#### Evaluate a New Machine Learning Classifier\n",
        "\n",
        "In this section, you’ll use the original parameters that the starter code provided. But, you’ll apply them to the performance of a second machine learning model. To do so, complete the following steps:\n",
        "\n",
        "1. Import a new classifier, such as `AdaBoost`, `DecisionTreeClassifier`, or `LogisticRegression`. (For the full list of classifiers, refer to the [Supervised learning page](https://scikit-learn.org/stable/supervised_learning.html) in the scikit-learn documentation.)\n",
        "\n",
        "2. Using the original training data as the baseline model, fit another model with the new classifier.\n",
        "\n",
        "3. Backtest the new model to evaluate its performance. Save a PNG image of the cumulative product of the actual returns vs. the strategy returns for this updated trading algorithm, and write your conclusions in your `README.md` file. Answer the following questions: Did this new model perform better or worse than the provided baseline model? Did this new model perform better or worse than your tuned trading algorithm?\n",
        "\n",
        "#### Create an Evaluation Report\n",
        "\n",
        "In the previous sections, you updated your `README.md` file with your conclusions. To accomplish this section, you need to add a summary evaluation report at the end of the `README.md` file. For this report, express your final conclusions and analysis. Support your findings by using the PNG images that you created.\n"
      ]
    },
    {
      "cell_type": "code",
      "metadata": {
        "id": "ivVgkSoyPbzX"
      },
      "source": [
        "# Imports\n",
        "import pandas as pd\n",
        "import numpy as np\n",
        "from pathlib import Path\n",
        "import hvplot.pandas\n",
        "import matplotlib.pyplot as plt\n",
        "from sklearn import svm\n",
        "from sklearn.preprocessing import StandardScaler\n",
        "from pandas.tseries.offsets import DateOffset\n",
        "from sklearn.metrics import classification_report"
      ],
      "execution_count": 9,
      "outputs": []
    },
    {
      "cell_type": "code",
      "metadata": {
        "colab": {
          "base_uri": "https://localhost:8080/"
        },
        "id": "jFru3nFvT8P_",
        "outputId": "34f734a7-2371-40b3-94d5-8ae476633777"
      },
      "source": [
        "pip install hvplot"
      ],
      "execution_count": 10,
      "outputs": [
        {
          "output_type": "stream",
          "name": "stdout",
          "text": [
            "Requirement already satisfied: hvplot in /usr/local/lib/python3.7/dist-packages (0.7.3)\n",
            "Requirement already satisfied: colorcet>=2 in /usr/local/lib/python3.7/dist-packages (from hvplot) (2.0.6)\n",
            "Requirement already satisfied: pandas in /usr/local/lib/python3.7/dist-packages (from hvplot) (1.1.5)\n",
            "Requirement already satisfied: numpy>=1.15 in /usr/local/lib/python3.7/dist-packages (from hvplot) (1.19.5)\n",
            "Requirement already satisfied: bokeh>=1.0.0 in /usr/local/lib/python3.7/dist-packages (from hvplot) (2.3.3)\n",
            "Requirement already satisfied: holoviews>=1.11.0 in /usr/local/lib/python3.7/dist-packages (from hvplot) (1.14.5)\n",
            "Requirement already satisfied: PyYAML>=3.10 in /usr/local/lib/python3.7/dist-packages (from bokeh>=1.0.0->hvplot) (3.13)\n",
            "Requirement already satisfied: pillow>=7.1.0 in /usr/local/lib/python3.7/dist-packages (from bokeh>=1.0.0->hvplot) (7.1.2)\n",
            "Requirement already satisfied: typing-extensions>=3.7.4 in /usr/local/lib/python3.7/dist-packages (from bokeh>=1.0.0->hvplot) (3.7.4.3)\n",
            "Requirement already satisfied: packaging>=16.8 in /usr/local/lib/python3.7/dist-packages (from bokeh>=1.0.0->hvplot) (21.0)\n",
            "Requirement already satisfied: tornado>=5.1 in /usr/local/lib/python3.7/dist-packages (from bokeh>=1.0.0->hvplot) (5.1.1)\n",
            "Requirement already satisfied: Jinja2>=2.9 in /usr/local/lib/python3.7/dist-packages (from bokeh>=1.0.0->hvplot) (2.11.3)\n",
            "Requirement already satisfied: python-dateutil>=2.1 in /usr/local/lib/python3.7/dist-packages (from bokeh>=1.0.0->hvplot) (2.8.2)\n",
            "Requirement already satisfied: param>=1.7.0 in /usr/local/lib/python3.7/dist-packages (from colorcet>=2->hvplot) (1.11.1)\n",
            "Requirement already satisfied: pyct>=0.4.4 in /usr/local/lib/python3.7/dist-packages (from colorcet>=2->hvplot) (0.4.8)\n",
            "Requirement already satisfied: panel>=0.8.0 in /usr/local/lib/python3.7/dist-packages (from holoviews>=1.11.0->hvplot) (0.12.1)\n",
            "Requirement already satisfied: pyviz-comms>=0.7.4 in /usr/local/lib/python3.7/dist-packages (from holoviews>=1.11.0->hvplot) (2.1.0)\n",
            "Requirement already satisfied: MarkupSafe>=0.23 in /usr/local/lib/python3.7/dist-packages (from Jinja2>=2.9->bokeh>=1.0.0->hvplot) (2.0.1)\n",
            "Requirement already satisfied: pyparsing>=2.0.2 in /usr/local/lib/python3.7/dist-packages (from packaging>=16.8->bokeh>=1.0.0->hvplot) (2.4.7)\n",
            "Requirement already satisfied: pytz>=2017.2 in /usr/local/lib/python3.7/dist-packages (from pandas->hvplot) (2018.9)\n",
            "Requirement already satisfied: markdown in /usr/local/lib/python3.7/dist-packages (from panel>=0.8.0->holoviews>=1.11.0->hvplot) (3.3.4)\n",
            "Requirement already satisfied: tqdm>=4.48.0 in /usr/local/lib/python3.7/dist-packages (from panel>=0.8.0->holoviews>=1.11.0->hvplot) (4.62.2)\n",
            "Requirement already satisfied: bleach in /usr/local/lib/python3.7/dist-packages (from panel>=0.8.0->holoviews>=1.11.0->hvplot) (4.1.0)\n",
            "Requirement already satisfied: requests in /usr/local/lib/python3.7/dist-packages (from panel>=0.8.0->holoviews>=1.11.0->hvplot) (2.23.0)\n",
            "Requirement already satisfied: six>=1.5 in /usr/local/lib/python3.7/dist-packages (from python-dateutil>=2.1->bokeh>=1.0.0->hvplot) (1.15.0)\n",
            "Requirement already satisfied: webencodings in /usr/local/lib/python3.7/dist-packages (from bleach->panel>=0.8.0->holoviews>=1.11.0->hvplot) (0.5.1)\n",
            "Requirement already satisfied: importlib-metadata in /usr/local/lib/python3.7/dist-packages (from markdown->panel>=0.8.0->holoviews>=1.11.0->hvplot) (4.8.1)\n",
            "Requirement already satisfied: zipp>=0.5 in /usr/local/lib/python3.7/dist-packages (from importlib-metadata->markdown->panel>=0.8.0->holoviews>=1.11.0->hvplot) (3.5.0)\n",
            "Requirement already satisfied: chardet<4,>=3.0.2 in /usr/local/lib/python3.7/dist-packages (from requests->panel>=0.8.0->holoviews>=1.11.0->hvplot) (3.0.4)\n",
            "Requirement already satisfied: certifi>=2017.4.17 in /usr/local/lib/python3.7/dist-packages (from requests->panel>=0.8.0->holoviews>=1.11.0->hvplot) (2021.5.30)\n",
            "Requirement already satisfied: urllib3!=1.25.0,!=1.25.1,<1.26,>=1.21.1 in /usr/local/lib/python3.7/dist-packages (from requests->panel>=0.8.0->holoviews>=1.11.0->hvplot) (1.24.3)\n",
            "Requirement already satisfied: idna<3,>=2.5 in /usr/local/lib/python3.7/dist-packages (from requests->panel>=0.8.0->holoviews>=1.11.0->hvplot) (2.10)\n"
          ]
        }
      ]
    },
    {
      "cell_type": "markdown",
      "metadata": {
        "id": "vIU895RlPbzY"
      },
      "source": [
        "---\n",
        "\n",
        "## Establish a Baseline Performance\n",
        "\n",
        "In this section, you’ll run the provided starter code to establish a baseline performance for the trading algorithm. To do so, complete the following steps.\n",
        "\n",
        "Open the Jupyter notebook. Restart the kernel, run the provided cells that correspond with the first three steps, and then proceed to step four. \n"
      ]
    },
    {
      "cell_type": "markdown",
      "metadata": {
        "id": "XH7fn5HuPbzY"
      },
      "source": [
        "### Step 1: mport the OHLCV dataset into a Pandas DataFrame."
      ]
    },
    {
      "cell_type": "code",
      "metadata": {
        "colab": {
          "base_uri": "https://localhost:8080/",
          "height": 235
        },
        "id": "_Qbn_L1FPbzZ",
        "outputId": "b8b126f2-a2e0-46a2-b2a3-ff4eb82e5986"
      },
      "source": [
        "# Import the OHLCV dataset into a Pandas Dataframe\n",
        "ohlcv_df = pd.read_csv(\n",
        "    Path(\"./emerging_markets_ohlcv.csv\"), \n",
        "    index_col='date', \n",
        "    infer_datetime_format=True, \n",
        "    parse_dates=True\n",
        ")\n",
        "\n",
        "# Review the DataFrame\n",
        "ohlcv_df.head()"
      ],
      "execution_count": 12,
      "outputs": [
        {
          "output_type": "execute_result",
          "data": {
            "text/html": [
              "<div>\n",
              "<style scoped>\n",
              "    .dataframe tbody tr th:only-of-type {\n",
              "        vertical-align: middle;\n",
              "    }\n",
              "\n",
              "    .dataframe tbody tr th {\n",
              "        vertical-align: top;\n",
              "    }\n",
              "\n",
              "    .dataframe thead th {\n",
              "        text-align: right;\n",
              "    }\n",
              "</style>\n",
              "<table border=\"1\" class=\"dataframe\">\n",
              "  <thead>\n",
              "    <tr style=\"text-align: right;\">\n",
              "      <th></th>\n",
              "      <th>open</th>\n",
              "      <th>high</th>\n",
              "      <th>low</th>\n",
              "      <th>close</th>\n",
              "      <th>volume</th>\n",
              "    </tr>\n",
              "    <tr>\n",
              "      <th>date</th>\n",
              "      <th></th>\n",
              "      <th></th>\n",
              "      <th></th>\n",
              "      <th></th>\n",
              "      <th></th>\n",
              "    </tr>\n",
              "  </thead>\n",
              "  <tbody>\n",
              "    <tr>\n",
              "      <th>2015-01-21 09:30:00</th>\n",
              "      <td>23.83</td>\n",
              "      <td>23.83</td>\n",
              "      <td>23.83</td>\n",
              "      <td>23.83</td>\n",
              "      <td>100</td>\n",
              "    </tr>\n",
              "    <tr>\n",
              "      <th>2015-01-21 11:00:00</th>\n",
              "      <td>23.98</td>\n",
              "      <td>23.98</td>\n",
              "      <td>23.98</td>\n",
              "      <td>23.98</td>\n",
              "      <td>100</td>\n",
              "    </tr>\n",
              "    <tr>\n",
              "      <th>2015-01-22 15:00:00</th>\n",
              "      <td>24.42</td>\n",
              "      <td>24.42</td>\n",
              "      <td>24.42</td>\n",
              "      <td>24.42</td>\n",
              "      <td>100</td>\n",
              "    </tr>\n",
              "    <tr>\n",
              "      <th>2015-01-22 15:15:00</th>\n",
              "      <td>24.42</td>\n",
              "      <td>24.44</td>\n",
              "      <td>24.42</td>\n",
              "      <td>24.44</td>\n",
              "      <td>200</td>\n",
              "    </tr>\n",
              "    <tr>\n",
              "      <th>2015-01-22 15:30:00</th>\n",
              "      <td>24.46</td>\n",
              "      <td>24.46</td>\n",
              "      <td>24.46</td>\n",
              "      <td>24.46</td>\n",
              "      <td>200</td>\n",
              "    </tr>\n",
              "  </tbody>\n",
              "</table>\n",
              "</div>"
            ],
            "text/plain": [
              "                      open   high    low  close  volume\n",
              "date                                                   \n",
              "2015-01-21 09:30:00  23.83  23.83  23.83  23.83     100\n",
              "2015-01-21 11:00:00  23.98  23.98  23.98  23.98     100\n",
              "2015-01-22 15:00:00  24.42  24.42  24.42  24.42     100\n",
              "2015-01-22 15:15:00  24.42  24.44  24.42  24.44     200\n",
              "2015-01-22 15:30:00  24.46  24.46  24.46  24.46     200"
            ]
          },
          "metadata": {},
          "execution_count": 12
        }
      ]
    },
    {
      "cell_type": "code",
      "metadata": {
        "colab": {
          "base_uri": "https://localhost:8080/",
          "height": 453
        },
        "id": "9TnR-9m2PbzZ",
        "outputId": "536070ba-d852-4bd6-e858-e02b9ce8b3d2"
      },
      "source": [
        "# Filter the date index and close columns\n",
        "signals_df = ohlcv_df.loc[:, [\"close\"]]\n",
        "\n",
        "# Use the pct_change function to generate  returns from close prices\n",
        "signals_df[\"Actual Returns\"] = signals_df[\"close\"].pct_change()\n",
        "\n",
        "# Drop all NaN values from the DataFrame\n",
        "signals_df = signals_df.dropna()\n",
        "\n",
        "# Review the DataFrame\n",
        "display(signals_df.head())\n",
        "display(signals_df.tail())"
      ],
      "execution_count": 13,
      "outputs": [
        {
          "output_type": "display_data",
          "data": {
            "text/html": [
              "<div>\n",
              "<style scoped>\n",
              "    .dataframe tbody tr th:only-of-type {\n",
              "        vertical-align: middle;\n",
              "    }\n",
              "\n",
              "    .dataframe tbody tr th {\n",
              "        vertical-align: top;\n",
              "    }\n",
              "\n",
              "    .dataframe thead th {\n",
              "        text-align: right;\n",
              "    }\n",
              "</style>\n",
              "<table border=\"1\" class=\"dataframe\">\n",
              "  <thead>\n",
              "    <tr style=\"text-align: right;\">\n",
              "      <th></th>\n",
              "      <th>close</th>\n",
              "      <th>Actual Returns</th>\n",
              "    </tr>\n",
              "    <tr>\n",
              "      <th>date</th>\n",
              "      <th></th>\n",
              "      <th></th>\n",
              "    </tr>\n",
              "  </thead>\n",
              "  <tbody>\n",
              "    <tr>\n",
              "      <th>2015-01-21 11:00:00</th>\n",
              "      <td>23.98</td>\n",
              "      <td>0.006295</td>\n",
              "    </tr>\n",
              "    <tr>\n",
              "      <th>2015-01-22 15:00:00</th>\n",
              "      <td>24.42</td>\n",
              "      <td>0.018349</td>\n",
              "    </tr>\n",
              "    <tr>\n",
              "      <th>2015-01-22 15:15:00</th>\n",
              "      <td>24.44</td>\n",
              "      <td>0.000819</td>\n",
              "    </tr>\n",
              "    <tr>\n",
              "      <th>2015-01-22 15:30:00</th>\n",
              "      <td>24.46</td>\n",
              "      <td>0.000818</td>\n",
              "    </tr>\n",
              "    <tr>\n",
              "      <th>2015-01-26 12:30:00</th>\n",
              "      <td>24.33</td>\n",
              "      <td>-0.005315</td>\n",
              "    </tr>\n",
              "  </tbody>\n",
              "</table>\n",
              "</div>"
            ],
            "text/plain": [
              "                     close  Actual Returns\n",
              "date                                      \n",
              "2015-01-21 11:00:00  23.98        0.006295\n",
              "2015-01-22 15:00:00  24.42        0.018349\n",
              "2015-01-22 15:15:00  24.44        0.000819\n",
              "2015-01-22 15:30:00  24.46        0.000818\n",
              "2015-01-26 12:30:00  24.33       -0.005315"
            ]
          },
          "metadata": {}
        },
        {
          "output_type": "display_data",
          "data": {
            "text/html": [
              "<div>\n",
              "<style scoped>\n",
              "    .dataframe tbody tr th:only-of-type {\n",
              "        vertical-align: middle;\n",
              "    }\n",
              "\n",
              "    .dataframe tbody tr th {\n",
              "        vertical-align: top;\n",
              "    }\n",
              "\n",
              "    .dataframe thead th {\n",
              "        text-align: right;\n",
              "    }\n",
              "</style>\n",
              "<table border=\"1\" class=\"dataframe\">\n",
              "  <thead>\n",
              "    <tr style=\"text-align: right;\">\n",
              "      <th></th>\n",
              "      <th>close</th>\n",
              "      <th>Actual Returns</th>\n",
              "    </tr>\n",
              "    <tr>\n",
              "      <th>date</th>\n",
              "      <th></th>\n",
              "      <th></th>\n",
              "    </tr>\n",
              "  </thead>\n",
              "  <tbody>\n",
              "    <tr>\n",
              "      <th>2021-01-22 09:30:00</th>\n",
              "      <td>33.27</td>\n",
              "      <td>-0.006866</td>\n",
              "    </tr>\n",
              "    <tr>\n",
              "      <th>2021-01-22 11:30:00</th>\n",
              "      <td>33.35</td>\n",
              "      <td>0.002405</td>\n",
              "    </tr>\n",
              "    <tr>\n",
              "      <th>2021-01-22 13:45:00</th>\n",
              "      <td>33.42</td>\n",
              "      <td>0.002099</td>\n",
              "    </tr>\n",
              "    <tr>\n",
              "      <th>2021-01-22 14:30:00</th>\n",
              "      <td>33.47</td>\n",
              "      <td>0.001496</td>\n",
              "    </tr>\n",
              "    <tr>\n",
              "      <th>2021-01-22 15:45:00</th>\n",
              "      <td>33.44</td>\n",
              "      <td>-0.000896</td>\n",
              "    </tr>\n",
              "  </tbody>\n",
              "</table>\n",
              "</div>"
            ],
            "text/plain": [
              "                     close  Actual Returns\n",
              "date                                      \n",
              "2021-01-22 09:30:00  33.27       -0.006866\n",
              "2021-01-22 11:30:00  33.35        0.002405\n",
              "2021-01-22 13:45:00  33.42        0.002099\n",
              "2021-01-22 14:30:00  33.47        0.001496\n",
              "2021-01-22 15:45:00  33.44       -0.000896"
            ]
          },
          "metadata": {}
        }
      ]
    },
    {
      "cell_type": "markdown",
      "metadata": {
        "id": "CBIUjMSrPbzZ"
      },
      "source": [
        "## Step 2: Generate trading signals using short- and long-window SMA values. "
      ]
    },
    {
      "cell_type": "code",
      "metadata": {
        "colab": {
          "base_uri": "https://localhost:8080/",
          "height": 453
        },
        "id": "eB6axal1Pbza",
        "outputId": "b1f0bee0-57b6-42c5-8a31-82c99dbece56"
      },
      "source": [
        "# Set the short window and long window\n",
        "short_window = 4\n",
        "long_window = 100\n",
        "\n",
        "# Generate the fast and slow simple moving averages (4 and 100 days, respectively)\n",
        "signals_df['SMA_Fast'] = signals_df['close'].rolling(window=short_window).mean()\n",
        "signals_df['SMA_Slow'] = signals_df['close'].rolling(window=long_window).mean()\n",
        "\n",
        "signals_df = signals_df.dropna()\n",
        "\n",
        "# Review the DataFrame\n",
        "display(signals_df.head())\n",
        "display(signals_df.tail())"
      ],
      "execution_count": 14,
      "outputs": [
        {
          "output_type": "display_data",
          "data": {
            "text/html": [
              "<div>\n",
              "<style scoped>\n",
              "    .dataframe tbody tr th:only-of-type {\n",
              "        vertical-align: middle;\n",
              "    }\n",
              "\n",
              "    .dataframe tbody tr th {\n",
              "        vertical-align: top;\n",
              "    }\n",
              "\n",
              "    .dataframe thead th {\n",
              "        text-align: right;\n",
              "    }\n",
              "</style>\n",
              "<table border=\"1\" class=\"dataframe\">\n",
              "  <thead>\n",
              "    <tr style=\"text-align: right;\">\n",
              "      <th></th>\n",
              "      <th>close</th>\n",
              "      <th>Actual Returns</th>\n",
              "      <th>SMA_Fast</th>\n",
              "      <th>SMA_Slow</th>\n",
              "    </tr>\n",
              "    <tr>\n",
              "      <th>date</th>\n",
              "      <th></th>\n",
              "      <th></th>\n",
              "      <th></th>\n",
              "      <th></th>\n",
              "    </tr>\n",
              "  </thead>\n",
              "  <tbody>\n",
              "    <tr>\n",
              "      <th>2015-04-02 14:45:00</th>\n",
              "      <td>24.92</td>\n",
              "      <td>0.000000</td>\n",
              "      <td>24.9175</td>\n",
              "      <td>24.3214</td>\n",
              "    </tr>\n",
              "    <tr>\n",
              "      <th>2015-04-02 15:00:00</th>\n",
              "      <td>24.92</td>\n",
              "      <td>0.000000</td>\n",
              "      <td>24.9200</td>\n",
              "      <td>24.3308</td>\n",
              "    </tr>\n",
              "    <tr>\n",
              "      <th>2015-04-02 15:15:00</th>\n",
              "      <td>24.94</td>\n",
              "      <td>0.000803</td>\n",
              "      <td>24.9250</td>\n",
              "      <td>24.3360</td>\n",
              "    </tr>\n",
              "    <tr>\n",
              "      <th>2015-04-02 15:30:00</th>\n",
              "      <td>24.95</td>\n",
              "      <td>0.000401</td>\n",
              "      <td>24.9325</td>\n",
              "      <td>24.3411</td>\n",
              "    </tr>\n",
              "    <tr>\n",
              "      <th>2015-04-02 15:45:00</th>\n",
              "      <td>24.98</td>\n",
              "      <td>0.001202</td>\n",
              "      <td>24.9475</td>\n",
              "      <td>24.3463</td>\n",
              "    </tr>\n",
              "  </tbody>\n",
              "</table>\n",
              "</div>"
            ],
            "text/plain": [
              "                     close  Actual Returns  SMA_Fast  SMA_Slow\n",
              "date                                                          \n",
              "2015-04-02 14:45:00  24.92        0.000000   24.9175   24.3214\n",
              "2015-04-02 15:00:00  24.92        0.000000   24.9200   24.3308\n",
              "2015-04-02 15:15:00  24.94        0.000803   24.9250   24.3360\n",
              "2015-04-02 15:30:00  24.95        0.000401   24.9325   24.3411\n",
              "2015-04-02 15:45:00  24.98        0.001202   24.9475   24.3463"
            ]
          },
          "metadata": {}
        },
        {
          "output_type": "display_data",
          "data": {
            "text/html": [
              "<div>\n",
              "<style scoped>\n",
              "    .dataframe tbody tr th:only-of-type {\n",
              "        vertical-align: middle;\n",
              "    }\n",
              "\n",
              "    .dataframe tbody tr th {\n",
              "        vertical-align: top;\n",
              "    }\n",
              "\n",
              "    .dataframe thead th {\n",
              "        text-align: right;\n",
              "    }\n",
              "</style>\n",
              "<table border=\"1\" class=\"dataframe\">\n",
              "  <thead>\n",
              "    <tr style=\"text-align: right;\">\n",
              "      <th></th>\n",
              "      <th>close</th>\n",
              "      <th>Actual Returns</th>\n",
              "      <th>SMA_Fast</th>\n",
              "      <th>SMA_Slow</th>\n",
              "    </tr>\n",
              "    <tr>\n",
              "      <th>date</th>\n",
              "      <th></th>\n",
              "      <th></th>\n",
              "      <th></th>\n",
              "      <th></th>\n",
              "    </tr>\n",
              "  </thead>\n",
              "  <tbody>\n",
              "    <tr>\n",
              "      <th>2021-01-22 09:30:00</th>\n",
              "      <td>33.27</td>\n",
              "      <td>-0.006866</td>\n",
              "      <td>33.2025</td>\n",
              "      <td>30.40215</td>\n",
              "    </tr>\n",
              "    <tr>\n",
              "      <th>2021-01-22 11:30:00</th>\n",
              "      <td>33.35</td>\n",
              "      <td>0.002405</td>\n",
              "      <td>33.2725</td>\n",
              "      <td>30.44445</td>\n",
              "    </tr>\n",
              "    <tr>\n",
              "      <th>2021-01-22 13:45:00</th>\n",
              "      <td>33.42</td>\n",
              "      <td>0.002099</td>\n",
              "      <td>33.3850</td>\n",
              "      <td>30.48745</td>\n",
              "    </tr>\n",
              "    <tr>\n",
              "      <th>2021-01-22 14:30:00</th>\n",
              "      <td>33.47</td>\n",
              "      <td>0.001496</td>\n",
              "      <td>33.3775</td>\n",
              "      <td>30.53085</td>\n",
              "    </tr>\n",
              "    <tr>\n",
              "      <th>2021-01-22 15:45:00</th>\n",
              "      <td>33.44</td>\n",
              "      <td>-0.000896</td>\n",
              "      <td>33.4200</td>\n",
              "      <td>30.57495</td>\n",
              "    </tr>\n",
              "  </tbody>\n",
              "</table>\n",
              "</div>"
            ],
            "text/plain": [
              "                     close  Actual Returns  SMA_Fast  SMA_Slow\n",
              "date                                                          \n",
              "2021-01-22 09:30:00  33.27       -0.006866   33.2025  30.40215\n",
              "2021-01-22 11:30:00  33.35        0.002405   33.2725  30.44445\n",
              "2021-01-22 13:45:00  33.42        0.002099   33.3850  30.48745\n",
              "2021-01-22 14:30:00  33.47        0.001496   33.3775  30.53085\n",
              "2021-01-22 15:45:00  33.44       -0.000896   33.4200  30.57495"
            ]
          },
          "metadata": {}
        }
      ]
    },
    {
      "cell_type": "code",
      "metadata": {
        "colab": {
          "base_uri": "https://localhost:8080/",
          "height": 453
        },
        "id": "oOtaE_S5Pbza",
        "outputId": "2fffdc23-bcb8-4346-dbc6-bf091f046697"
      },
      "source": [
        "# Initialize the new Signal column\n",
        "signals_df['Signal'] = 0.0\n",
        "\n",
        "# When Actual Returns are greater than or equal to 0, generate signal to buy stock long\n",
        "signals_df.loc[(signals_df['Actual Returns'] >= 0), 'Signal'] = 1\n",
        "\n",
        "# When Actual Returns are less than 0, generate signal to sell stock short\n",
        "signals_df.loc[(signals_df['Actual Returns'] < 0), 'Signal'] = -1\n",
        "\n",
        "# Review the DataFrame\n",
        "display(signals_df.head())\n",
        "display(signals_df.tail())"
      ],
      "execution_count": 15,
      "outputs": [
        {
          "output_type": "display_data",
          "data": {
            "text/html": [
              "<div>\n",
              "<style scoped>\n",
              "    .dataframe tbody tr th:only-of-type {\n",
              "        vertical-align: middle;\n",
              "    }\n",
              "\n",
              "    .dataframe tbody tr th {\n",
              "        vertical-align: top;\n",
              "    }\n",
              "\n",
              "    .dataframe thead th {\n",
              "        text-align: right;\n",
              "    }\n",
              "</style>\n",
              "<table border=\"1\" class=\"dataframe\">\n",
              "  <thead>\n",
              "    <tr style=\"text-align: right;\">\n",
              "      <th></th>\n",
              "      <th>close</th>\n",
              "      <th>Actual Returns</th>\n",
              "      <th>SMA_Fast</th>\n",
              "      <th>SMA_Slow</th>\n",
              "      <th>Signal</th>\n",
              "    </tr>\n",
              "    <tr>\n",
              "      <th>date</th>\n",
              "      <th></th>\n",
              "      <th></th>\n",
              "      <th></th>\n",
              "      <th></th>\n",
              "      <th></th>\n",
              "    </tr>\n",
              "  </thead>\n",
              "  <tbody>\n",
              "    <tr>\n",
              "      <th>2015-04-02 14:45:00</th>\n",
              "      <td>24.92</td>\n",
              "      <td>0.000000</td>\n",
              "      <td>24.9175</td>\n",
              "      <td>24.3214</td>\n",
              "      <td>1.0</td>\n",
              "    </tr>\n",
              "    <tr>\n",
              "      <th>2015-04-02 15:00:00</th>\n",
              "      <td>24.92</td>\n",
              "      <td>0.000000</td>\n",
              "      <td>24.9200</td>\n",
              "      <td>24.3308</td>\n",
              "      <td>1.0</td>\n",
              "    </tr>\n",
              "    <tr>\n",
              "      <th>2015-04-02 15:15:00</th>\n",
              "      <td>24.94</td>\n",
              "      <td>0.000803</td>\n",
              "      <td>24.9250</td>\n",
              "      <td>24.3360</td>\n",
              "      <td>1.0</td>\n",
              "    </tr>\n",
              "    <tr>\n",
              "      <th>2015-04-02 15:30:00</th>\n",
              "      <td>24.95</td>\n",
              "      <td>0.000401</td>\n",
              "      <td>24.9325</td>\n",
              "      <td>24.3411</td>\n",
              "      <td>1.0</td>\n",
              "    </tr>\n",
              "    <tr>\n",
              "      <th>2015-04-02 15:45:00</th>\n",
              "      <td>24.98</td>\n",
              "      <td>0.001202</td>\n",
              "      <td>24.9475</td>\n",
              "      <td>24.3463</td>\n",
              "      <td>1.0</td>\n",
              "    </tr>\n",
              "  </tbody>\n",
              "</table>\n",
              "</div>"
            ],
            "text/plain": [
              "                     close  Actual Returns  SMA_Fast  SMA_Slow  Signal\n",
              "date                                                                  \n",
              "2015-04-02 14:45:00  24.92        0.000000   24.9175   24.3214     1.0\n",
              "2015-04-02 15:00:00  24.92        0.000000   24.9200   24.3308     1.0\n",
              "2015-04-02 15:15:00  24.94        0.000803   24.9250   24.3360     1.0\n",
              "2015-04-02 15:30:00  24.95        0.000401   24.9325   24.3411     1.0\n",
              "2015-04-02 15:45:00  24.98        0.001202   24.9475   24.3463     1.0"
            ]
          },
          "metadata": {}
        },
        {
          "output_type": "display_data",
          "data": {
            "text/html": [
              "<div>\n",
              "<style scoped>\n",
              "    .dataframe tbody tr th:only-of-type {\n",
              "        vertical-align: middle;\n",
              "    }\n",
              "\n",
              "    .dataframe tbody tr th {\n",
              "        vertical-align: top;\n",
              "    }\n",
              "\n",
              "    .dataframe thead th {\n",
              "        text-align: right;\n",
              "    }\n",
              "</style>\n",
              "<table border=\"1\" class=\"dataframe\">\n",
              "  <thead>\n",
              "    <tr style=\"text-align: right;\">\n",
              "      <th></th>\n",
              "      <th>close</th>\n",
              "      <th>Actual Returns</th>\n",
              "      <th>SMA_Fast</th>\n",
              "      <th>SMA_Slow</th>\n",
              "      <th>Signal</th>\n",
              "    </tr>\n",
              "    <tr>\n",
              "      <th>date</th>\n",
              "      <th></th>\n",
              "      <th></th>\n",
              "      <th></th>\n",
              "      <th></th>\n",
              "      <th></th>\n",
              "    </tr>\n",
              "  </thead>\n",
              "  <tbody>\n",
              "    <tr>\n",
              "      <th>2021-01-22 09:30:00</th>\n",
              "      <td>33.27</td>\n",
              "      <td>-0.006866</td>\n",
              "      <td>33.2025</td>\n",
              "      <td>30.40215</td>\n",
              "      <td>-1.0</td>\n",
              "    </tr>\n",
              "    <tr>\n",
              "      <th>2021-01-22 11:30:00</th>\n",
              "      <td>33.35</td>\n",
              "      <td>0.002405</td>\n",
              "      <td>33.2725</td>\n",
              "      <td>30.44445</td>\n",
              "      <td>1.0</td>\n",
              "    </tr>\n",
              "    <tr>\n",
              "      <th>2021-01-22 13:45:00</th>\n",
              "      <td>33.42</td>\n",
              "      <td>0.002099</td>\n",
              "      <td>33.3850</td>\n",
              "      <td>30.48745</td>\n",
              "      <td>1.0</td>\n",
              "    </tr>\n",
              "    <tr>\n",
              "      <th>2021-01-22 14:30:00</th>\n",
              "      <td>33.47</td>\n",
              "      <td>0.001496</td>\n",
              "      <td>33.3775</td>\n",
              "      <td>30.53085</td>\n",
              "      <td>1.0</td>\n",
              "    </tr>\n",
              "    <tr>\n",
              "      <th>2021-01-22 15:45:00</th>\n",
              "      <td>33.44</td>\n",
              "      <td>-0.000896</td>\n",
              "      <td>33.4200</td>\n",
              "      <td>30.57495</td>\n",
              "      <td>-1.0</td>\n",
              "    </tr>\n",
              "  </tbody>\n",
              "</table>\n",
              "</div>"
            ],
            "text/plain": [
              "                     close  Actual Returns  SMA_Fast  SMA_Slow  Signal\n",
              "date                                                                  \n",
              "2021-01-22 09:30:00  33.27       -0.006866   33.2025  30.40215    -1.0\n",
              "2021-01-22 11:30:00  33.35        0.002405   33.2725  30.44445     1.0\n",
              "2021-01-22 13:45:00  33.42        0.002099   33.3850  30.48745     1.0\n",
              "2021-01-22 14:30:00  33.47        0.001496   33.3775  30.53085     1.0\n",
              "2021-01-22 15:45:00  33.44       -0.000896   33.4200  30.57495    -1.0"
            ]
          },
          "metadata": {}
        }
      ]
    },
    {
      "cell_type": "code",
      "metadata": {
        "colab": {
          "base_uri": "https://localhost:8080/"
        },
        "id": "UJqqHGdCPbza",
        "outputId": "f365642f-10a2-482d-a01c-464836261598"
      },
      "source": [
        "signals_df['Signal'].value_counts()"
      ],
      "execution_count": 16,
      "outputs": [
        {
          "output_type": "execute_result",
          "data": {
            "text/plain": [
              " 1.0    2368\n",
              "-1.0    1855\n",
              "Name: Signal, dtype: int64"
            ]
          },
          "metadata": {},
          "execution_count": 16
        }
      ]
    },
    {
      "cell_type": "code",
      "metadata": {
        "colab": {
          "base_uri": "https://localhost:8080/",
          "height": 657
        },
        "id": "FWOLoU6lPbzb",
        "outputId": "2489ab6f-a4d1-49f1-d3a8-310f9103713e"
      },
      "source": [
        "# Calculate the strategy returns and add them to the signals_df DataFrame\n",
        "signals_df['Strategy Returns'] = signals_df['Actual Returns'] * signals_df['Signal'].shift()\n",
        "\n",
        "# Review the DataFrame\n",
        "display(signals_df.head())\n",
        "display(signals_df.tail())"
      ],
      "execution_count": 17,
      "outputs": [
        {
          "output_type": "display_data",
          "data": {
            "text/html": [
              "<div>\n",
              "<style scoped>\n",
              "    .dataframe tbody tr th:only-of-type {\n",
              "        vertical-align: middle;\n",
              "    }\n",
              "\n",
              "    .dataframe tbody tr th {\n",
              "        vertical-align: top;\n",
              "    }\n",
              "\n",
              "    .dataframe thead th {\n",
              "        text-align: right;\n",
              "    }\n",
              "</style>\n",
              "<table border=\"1\" class=\"dataframe\">\n",
              "  <thead>\n",
              "    <tr style=\"text-align: right;\">\n",
              "      <th></th>\n",
              "      <th>close</th>\n",
              "      <th>Actual Returns</th>\n",
              "      <th>SMA_Fast</th>\n",
              "      <th>SMA_Slow</th>\n",
              "      <th>Signal</th>\n",
              "      <th>Strategy Returns</th>\n",
              "    </tr>\n",
              "    <tr>\n",
              "      <th>date</th>\n",
              "      <th></th>\n",
              "      <th></th>\n",
              "      <th></th>\n",
              "      <th></th>\n",
              "      <th></th>\n",
              "      <th></th>\n",
              "    </tr>\n",
              "  </thead>\n",
              "  <tbody>\n",
              "    <tr>\n",
              "      <th>2015-04-02 14:45:00</th>\n",
              "      <td>24.92</td>\n",
              "      <td>0.000000</td>\n",
              "      <td>24.9175</td>\n",
              "      <td>24.3214</td>\n",
              "      <td>1.0</td>\n",
              "      <td>NaN</td>\n",
              "    </tr>\n",
              "    <tr>\n",
              "      <th>2015-04-02 15:00:00</th>\n",
              "      <td>24.92</td>\n",
              "      <td>0.000000</td>\n",
              "      <td>24.9200</td>\n",
              "      <td>24.3308</td>\n",
              "      <td>1.0</td>\n",
              "      <td>0.000000</td>\n",
              "    </tr>\n",
              "    <tr>\n",
              "      <th>2015-04-02 15:15:00</th>\n",
              "      <td>24.94</td>\n",
              "      <td>0.000803</td>\n",
              "      <td>24.9250</td>\n",
              "      <td>24.3360</td>\n",
              "      <td>1.0</td>\n",
              "      <td>0.000803</td>\n",
              "    </tr>\n",
              "    <tr>\n",
              "      <th>2015-04-02 15:30:00</th>\n",
              "      <td>24.95</td>\n",
              "      <td>0.000401</td>\n",
              "      <td>24.9325</td>\n",
              "      <td>24.3411</td>\n",
              "      <td>1.0</td>\n",
              "      <td>0.000401</td>\n",
              "    </tr>\n",
              "    <tr>\n",
              "      <th>2015-04-02 15:45:00</th>\n",
              "      <td>24.98</td>\n",
              "      <td>0.001202</td>\n",
              "      <td>24.9475</td>\n",
              "      <td>24.3463</td>\n",
              "      <td>1.0</td>\n",
              "      <td>0.001202</td>\n",
              "    </tr>\n",
              "  </tbody>\n",
              "</table>\n",
              "</div>"
            ],
            "text/plain": [
              "                     close  Actual Returns  ...  Signal  Strategy Returns\n",
              "date                                        ...                          \n",
              "2015-04-02 14:45:00  24.92        0.000000  ...     1.0               NaN\n",
              "2015-04-02 15:00:00  24.92        0.000000  ...     1.0          0.000000\n",
              "2015-04-02 15:15:00  24.94        0.000803  ...     1.0          0.000803\n",
              "2015-04-02 15:30:00  24.95        0.000401  ...     1.0          0.000401\n",
              "2015-04-02 15:45:00  24.98        0.001202  ...     1.0          0.001202\n",
              "\n",
              "[5 rows x 6 columns]"
            ]
          },
          "metadata": {}
        },
        {
          "output_type": "display_data",
          "data": {
            "text/html": [
              "<div>\n",
              "<style scoped>\n",
              "    .dataframe tbody tr th:only-of-type {\n",
              "        vertical-align: middle;\n",
              "    }\n",
              "\n",
              "    .dataframe tbody tr th {\n",
              "        vertical-align: top;\n",
              "    }\n",
              "\n",
              "    .dataframe thead th {\n",
              "        text-align: right;\n",
              "    }\n",
              "</style>\n",
              "<table border=\"1\" class=\"dataframe\">\n",
              "  <thead>\n",
              "    <tr style=\"text-align: right;\">\n",
              "      <th></th>\n",
              "      <th>close</th>\n",
              "      <th>Actual Returns</th>\n",
              "      <th>SMA_Fast</th>\n",
              "      <th>SMA_Slow</th>\n",
              "      <th>Signal</th>\n",
              "      <th>Strategy Returns</th>\n",
              "    </tr>\n",
              "    <tr>\n",
              "      <th>date</th>\n",
              "      <th></th>\n",
              "      <th></th>\n",
              "      <th></th>\n",
              "      <th></th>\n",
              "      <th></th>\n",
              "      <th></th>\n",
              "    </tr>\n",
              "  </thead>\n",
              "  <tbody>\n",
              "    <tr>\n",
              "      <th>2021-01-22 09:30:00</th>\n",
              "      <td>33.27</td>\n",
              "      <td>-0.006866</td>\n",
              "      <td>33.2025</td>\n",
              "      <td>30.40215</td>\n",
              "      <td>-1.0</td>\n",
              "      <td>-0.006866</td>\n",
              "    </tr>\n",
              "    <tr>\n",
              "      <th>2021-01-22 11:30:00</th>\n",
              "      <td>33.35</td>\n",
              "      <td>0.002405</td>\n",
              "      <td>33.2725</td>\n",
              "      <td>30.44445</td>\n",
              "      <td>1.0</td>\n",
              "      <td>-0.002405</td>\n",
              "    </tr>\n",
              "    <tr>\n",
              "      <th>2021-01-22 13:45:00</th>\n",
              "      <td>33.42</td>\n",
              "      <td>0.002099</td>\n",
              "      <td>33.3850</td>\n",
              "      <td>30.48745</td>\n",
              "      <td>1.0</td>\n",
              "      <td>0.002099</td>\n",
              "    </tr>\n",
              "    <tr>\n",
              "      <th>2021-01-22 14:30:00</th>\n",
              "      <td>33.47</td>\n",
              "      <td>0.001496</td>\n",
              "      <td>33.3775</td>\n",
              "      <td>30.53085</td>\n",
              "      <td>1.0</td>\n",
              "      <td>0.001496</td>\n",
              "    </tr>\n",
              "    <tr>\n",
              "      <th>2021-01-22 15:45:00</th>\n",
              "      <td>33.44</td>\n",
              "      <td>-0.000896</td>\n",
              "      <td>33.4200</td>\n",
              "      <td>30.57495</td>\n",
              "      <td>-1.0</td>\n",
              "      <td>-0.000896</td>\n",
              "    </tr>\n",
              "  </tbody>\n",
              "</table>\n",
              "</div>"
            ],
            "text/plain": [
              "                     close  Actual Returns  ...  Signal  Strategy Returns\n",
              "date                                        ...                          \n",
              "2021-01-22 09:30:00  33.27       -0.006866  ...    -1.0         -0.006866\n",
              "2021-01-22 11:30:00  33.35        0.002405  ...     1.0         -0.002405\n",
              "2021-01-22 13:45:00  33.42        0.002099  ...     1.0          0.002099\n",
              "2021-01-22 14:30:00  33.47        0.001496  ...     1.0          0.001496\n",
              "2021-01-22 15:45:00  33.44       -0.000896  ...    -1.0         -0.000896\n",
              "\n",
              "[5 rows x 6 columns]"
            ]
          },
          "metadata": {}
        }
      ]
    },
    {
      "cell_type": "code",
      "metadata": {
        "colab": {
          "base_uri": "https://localhost:8080/",
          "height": 286
        },
        "id": "dpUZc_brPbzb",
        "outputId": "c00efa0d-d8a1-4d3d-c59f-760e48bc786c"
      },
      "source": [
        "# Plot Strategy Returns to examine performance\n",
        "(1 + signals_df['Strategy Returns']).cumprod().plot()"
      ],
      "execution_count": 18,
      "outputs": [
        {
          "output_type": "execute_result",
          "data": {
            "text/plain": [
              "<matplotlib.axes._subplots.AxesSubplot at 0x7fb6039f2410>"
            ]
          },
          "metadata": {},
          "execution_count": 18
        },
        {
          "output_type": "display_data",
          "data": {
            "image/png": "[encoded data removed]",
            "text/plain": [
              "<Figure size 432x288 with 1 Axes>"
            ]
          },
          "metadata": {
            "needs_background": "light"
          }
        }
      ]
    },
    {
      "cell_type": "markdown",
      "metadata": {
        "id": "xCS3-2A6Pbzb"
      },
      "source": [
        "### Step 3: Split the data into training and testing datasets."
      ]
    },
    {
      "cell_type": "code",
      "metadata": {
        "colab": {
          "base_uri": "https://localhost:8080/",
          "height": 235
        },
        "id": "i4OrablYPbzc",
        "outputId": "b793782b-f0b3-4682-c230-5983b840694d"
      },
      "source": [
        "# Assign a copy of the sma_fast and sma_slow columns to a features DataFrame called X\n",
        "X = signals_df[['SMA_Fast', 'SMA_Slow']].shift().dropna()\n",
        "\n",
        "# Review the DataFrame\n",
        "X.head()"
      ],
      "execution_count": 19,
      "outputs": [
        {
          "output_type": "execute_result",
          "data": {
            "text/html": [
              "<div>\n",
              "<style scoped>\n",
              "    .dataframe tbody tr th:only-of-type {\n",
              "        vertical-align: middle;\n",
              "    }\n",
              "\n",
              "    .dataframe tbody tr th {\n",
              "        vertical-align: top;\n",
              "    }\n",
              "\n",
              "    .dataframe thead th {\n",
              "        text-align: right;\n",
              "    }\n",
              "</style>\n",
              "<table border=\"1\" class=\"dataframe\">\n",
              "  <thead>\n",
              "    <tr style=\"text-align: right;\">\n",
              "      <th></th>\n",
              "      <th>SMA_Fast</th>\n",
              "      <th>SMA_Slow</th>\n",
              "    </tr>\n",
              "    <tr>\n",
              "      <th>date</th>\n",
              "      <th></th>\n",
              "      <th></th>\n",
              "    </tr>\n",
              "  </thead>\n",
              "  <tbody>\n",
              "    <tr>\n",
              "      <th>2015-04-02 15:00:00</th>\n",
              "      <td>24.9175</td>\n",
              "      <td>24.3214</td>\n",
              "    </tr>\n",
              "    <tr>\n",
              "      <th>2015-04-02 15:15:00</th>\n",
              "      <td>24.9200</td>\n",
              "      <td>24.3308</td>\n",
              "    </tr>\n",
              "    <tr>\n",
              "      <th>2015-04-02 15:30:00</th>\n",
              "      <td>24.9250</td>\n",
              "      <td>24.3360</td>\n",
              "    </tr>\n",
              "    <tr>\n",
              "      <th>2015-04-02 15:45:00</th>\n",
              "      <td>24.9325</td>\n",
              "      <td>24.3411</td>\n",
              "    </tr>\n",
              "    <tr>\n",
              "      <th>2015-04-06 09:30:00</th>\n",
              "      <td>24.9475</td>\n",
              "      <td>24.3463</td>\n",
              "    </tr>\n",
              "  </tbody>\n",
              "</table>\n",
              "</div>"
            ],
            "text/plain": [
              "                     SMA_Fast  SMA_Slow\n",
              "date                                   \n",
              "2015-04-02 15:00:00   24.9175   24.3214\n",
              "2015-04-02 15:15:00   24.9200   24.3308\n",
              "2015-04-02 15:30:00   24.9250   24.3360\n",
              "2015-04-02 15:45:00   24.9325   24.3411\n",
              "2015-04-06 09:30:00   24.9475   24.3463"
            ]
          },
          "metadata": {},
          "execution_count": 19
        }
      ]
    },
    {
      "cell_type": "code",
      "metadata": {
        "colab": {
          "base_uri": "https://localhost:8080/"
        },
        "id": "venU0SQ_Pbzc",
        "outputId": "2ec2bca1-73a8-485d-ed4b-bdbcc6f853e0"
      },
      "source": [
        "# Create the target set selecting the Signal column and assiging it to y\n",
        "y = signals_df['Signal']\n",
        "\n",
        "# Review the value counts\n",
        "y.value_counts()"
      ],
      "execution_count": 20,
      "outputs": [
        {
          "output_type": "execute_result",
          "data": {
            "text/plain": [
              " 1.0    2368\n",
              "-1.0    1855\n",
              "Name: Signal, dtype: int64"
            ]
          },
          "metadata": {},
          "execution_count": 20
        }
      ]
    },
    {
      "cell_type": "code",
      "metadata": {
        "colab": {
          "base_uri": "https://localhost:8080/"
        },
        "id": "Hhtk8suVPbzc",
        "outputId": "6b0760ed-5acc-492f-c50c-40839036e204"
      },
      "source": [
        "# Select the start of the training period\n",
        "training_begin = X.index.min()\n",
        "\n",
        "# Display the training begin date\n",
        "print(training_begin)"
      ],
      "execution_count": 21,
      "outputs": [
        {
          "output_type": "stream",
          "name": "stdout",
          "text": [
            "2015-04-02 15:00:00\n"
          ]
        }
      ]
    },
    {
      "cell_type": "code",
      "metadata": {
        "colab": {
          "base_uri": "https://localhost:8080/"
        },
        "id": "Fn-K0auVPbzd",
        "outputId": "11274a23-edad-4d78-8747-2d71c3f44359"
      },
      "source": [
        "# Select the ending period for the training data with an offset of 3 months\n",
        "training_end = X.index.min() + DateOffset(months=3)\n",
        "\n",
        "# Display the training end date\n",
        "print(training_end)"
      ],
      "execution_count": 22,
      "outputs": [
        {
          "output_type": "stream",
          "name": "stdout",
          "text": [
            "2015-07-02 15:00:00\n"
          ]
        }
      ]
    },
    {
      "cell_type": "code",
      "metadata": {
        "colab": {
          "base_uri": "https://localhost:8080/",
          "height": 235
        },
        "id": "MvAGkCPDPbzd",
        "outputId": "04d88b96-f74b-4171-dce2-8c84b33089fd"
      },
      "source": [
        "# Generate the X_train and y_train DataFrames\n",
        "X_train = X.loc[training_begin:training_end]\n",
        "y_train = y.loc[training_begin:training_end]\n",
        "\n",
        "# Review the X_train DataFrame\n",
        "X_train.head()"
      ],
      "execution_count": 23,
      "outputs": [
        {
          "output_type": "execute_result",
          "data": {
            "text/html": [
              "<div>\n",
              "<style scoped>\n",
              "    .dataframe tbody tr th:only-of-type {\n",
              "        vertical-align: middle;\n",
              "    }\n",
              "\n",
              "    .dataframe tbody tr th {\n",
              "        vertical-align: top;\n",
              "    }\n",
              "\n",
              "    .dataframe thead th {\n",
              "        text-align: right;\n",
              "    }\n",
              "</style>\n",
              "<table border=\"1\" class=\"dataframe\">\n",
              "  <thead>\n",
              "    <tr style=\"text-align: right;\">\n",
              "      <th></th>\n",
              "      <th>SMA_Fast</th>\n",
              "      <th>SMA_Slow</th>\n",
              "    </tr>\n",
              "    <tr>\n",
              "      <th>date</th>\n",
              "      <th></th>\n",
              "      <th></th>\n",
              "    </tr>\n",
              "  </thead>\n",
              "  <tbody>\n",
              "    <tr>\n",
              "      <th>2015-04-02 15:00:00</th>\n",
              "      <td>24.9175</td>\n",
              "      <td>24.3214</td>\n",
              "    </tr>\n",
              "    <tr>\n",
              "      <th>2015-04-02 15:15:00</th>\n",
              "      <td>24.9200</td>\n",
              "      <td>24.3308</td>\n",
              "    </tr>\n",
              "    <tr>\n",
              "      <th>2015-04-02 15:30:00</th>\n",
              "      <td>24.9250</td>\n",
              "      <td>24.3360</td>\n",
              "    </tr>\n",
              "    <tr>\n",
              "      <th>2015-04-02 15:45:00</th>\n",
              "      <td>24.9325</td>\n",
              "      <td>24.3411</td>\n",
              "    </tr>\n",
              "    <tr>\n",
              "      <th>2015-04-06 09:30:00</th>\n",
              "      <td>24.9475</td>\n",
              "      <td>24.3463</td>\n",
              "    </tr>\n",
              "  </tbody>\n",
              "</table>\n",
              "</div>"
            ],
            "text/plain": [
              "                     SMA_Fast  SMA_Slow\n",
              "date                                   \n",
              "2015-04-02 15:00:00   24.9175   24.3214\n",
              "2015-04-02 15:15:00   24.9200   24.3308\n",
              "2015-04-02 15:30:00   24.9250   24.3360\n",
              "2015-04-02 15:45:00   24.9325   24.3411\n",
              "2015-04-06 09:30:00   24.9475   24.3463"
            ]
          },
          "metadata": {},
          "execution_count": 23
        }
      ]
    },
    {
      "cell_type": "code",
      "metadata": {
        "colab": {
          "base_uri": "https://localhost:8080/",
          "height": 235
        },
        "id": "9s6RXfUiPbzd",
        "outputId": "888ee672-3ae2-4441-af8c-f668550fa45d"
      },
      "source": [
        "# Generate the X_test and y_test DataFrames\n",
        "X_test = X.loc[training_end+DateOffset(hours=1):]\n",
        "y_test = y.loc[training_end+DateOffset(hours=1):]\n",
        "\n",
        "# Review the X_test DataFrame\n",
        "X_train.head()"
      ],
      "execution_count": 24,
      "outputs": [
        {
          "output_type": "execute_result",
          "data": {
            "text/html": [
              "<div>\n",
              "<style scoped>\n",
              "    .dataframe tbody tr th:only-of-type {\n",
              "        vertical-align: middle;\n",
              "    }\n",
              "\n",
              "    .dataframe tbody tr th {\n",
              "        vertical-align: top;\n",
              "    }\n",
              "\n",
              "    .dataframe thead th {\n",
              "        text-align: right;\n",
              "    }\n",
              "</style>\n",
              "<table border=\"1\" class=\"dataframe\">\n",
              "  <thead>\n",
              "    <tr style=\"text-align: right;\">\n",
              "      <th></th>\n",
              "      <th>SMA_Fast</th>\n",
              "      <th>SMA_Slow</th>\n",
              "    </tr>\n",
              "    <tr>\n",
              "      <th>date</th>\n",
              "      <th></th>\n",
              "      <th></th>\n",
              "    </tr>\n",
              "  </thead>\n",
              "  <tbody>\n",
              "    <tr>\n",
              "      <th>2015-04-02 15:00:00</th>\n",
              "      <td>24.9175</td>\n",
              "      <td>24.3214</td>\n",
              "    </tr>\n",
              "    <tr>\n",
              "      <th>2015-04-02 15:15:00</th>\n",
              "      <td>24.9200</td>\n",
              "      <td>24.3308</td>\n",
              "    </tr>\n",
              "    <tr>\n",
              "      <th>2015-04-02 15:30:00</th>\n",
              "      <td>24.9250</td>\n",
              "      <td>24.3360</td>\n",
              "    </tr>\n",
              "    <tr>\n",
              "      <th>2015-04-02 15:45:00</th>\n",
              "      <td>24.9325</td>\n",
              "      <td>24.3411</td>\n",
              "    </tr>\n",
              "    <tr>\n",
              "      <th>2015-04-06 09:30:00</th>\n",
              "      <td>24.9475</td>\n",
              "      <td>24.3463</td>\n",
              "    </tr>\n",
              "  </tbody>\n",
              "</table>\n",
              "</div>"
            ],
            "text/plain": [
              "                     SMA_Fast  SMA_Slow\n",
              "date                                   \n",
              "2015-04-02 15:00:00   24.9175   24.3214\n",
              "2015-04-02 15:15:00   24.9200   24.3308\n",
              "2015-04-02 15:30:00   24.9250   24.3360\n",
              "2015-04-02 15:45:00   24.9325   24.3411\n",
              "2015-04-06 09:30:00   24.9475   24.3463"
            ]
          },
          "metadata": {},
          "execution_count": 24
        }
      ]
    },
    {
      "cell_type": "code",
      "metadata": {
        "id": "IKiraYWTPbzd"
      },
      "source": [
        "# Scale the features DataFrames\n",
        "\n",
        "# Create a StandardScaler instance\n",
        "scaler = StandardScaler()\n",
        "\n",
        "# Apply the scaler model to fit the X-train data\n",
        "X_scaler = scaler.fit(X_train)\n",
        "\n",
        "# Transform the X_train and X_test DataFrames using the X_scaler\n",
        "X_train_scaled = X_scaler.transform(X_train)\n",
        "X_test_scaled = X_scaler.transform(X_test)"
      ],
      "execution_count": 25,
      "outputs": []
    },
    {
      "cell_type": "markdown",
      "metadata": {
        "id": "kXaO16RIPbze"
      },
      "source": [
        "### Step 4: Use the `SVC` classifier model from SKLearn's support vector machine (SVM) learning method to fit the training data and make predictions based on the testing data. Review the predictions."
      ]
    },
    {
      "cell_type": "code",
      "metadata": {
        "colab": {
          "base_uri": "https://localhost:8080/"
        },
        "id": "dAclamLVPbze",
        "outputId": "5cb16d6c-1243-4236-80f3-91fec9a8481d"
      },
      "source": [
        "# From SVM, instantiate SVC classifier model instance\n",
        "svm_model = svm.SVC()\n",
        " \n",
        "# Fit the model to the data using the training data\n",
        "svm_model = svm_model.fit(X_train_scaled,y_train)\n",
        " \n",
        "# Use the testing data to make the model predictions\n",
        "svm_pred = svm_model.predict(X_test_scaled)\n",
        "\n",
        "# Review the model's predicted values\n",
        "svm_pred\n"
      ],
      "execution_count": 50,
      "outputs": [
        {
          "output_type": "execute_result",
          "data": {
            "text/plain": [
              "array([1., 1., 1., ..., 1., 1., 1.])"
            ]
          },
          "metadata": {},
          "execution_count": 50
        }
      ]
    },
    {
      "cell_type": "markdown",
      "metadata": {
        "id": "dDa67y7jPbze"
      },
      "source": [
        "### Step 5: Review the classification report associated with the `SVC` model predictions. "
      ]
    },
    {
      "cell_type": "code",
      "metadata": {
        "colab": {
          "base_uri": "https://localhost:8080/"
        },
        "id": "AkmEAoyTPbze",
        "outputId": "ab7203ca-97b9-4a5c-de71-3fdfa9e0e2bc"
      },
      "source": [
        "# Use a classification report to evaluate the model using the predictions and testing data\n",
        "svm_testing_report = svm_model.predict(X_test_scaled)\n",
        "\n",
        "# Print the classification report\n",
        "print(svm_testing_report)\n"
      ],
      "execution_count": 51,
      "outputs": [
        {
          "output_type": "stream",
          "name": "stdout",
          "text": [
            "[1. 1. 1. ... 1. 1. 1.]\n"
          ]
        }
      ]
    },
    {
      "cell_type": "markdown",
      "metadata": {
        "id": "s8kwIoK7Pbzf"
      },
      "source": [
        "### Step 6: Create a predictions DataFrame that contains columns for “Predicted” values, “Actual Returns”, and “Strategy Returns”."
      ]
    },
    {
      "cell_type": "code",
      "metadata": {
        "colab": {
          "base_uri": "https://localhost:8080/",
          "height": 453
        },
        "id": "zITZ3UD-Pbzf",
        "outputId": "6f491608-f853-4031-a3e5-afbee5d2ba39"
      },
      "source": [
        "# Create a new empty predictions DataFrame.\n",
        "\n",
        "# Create a predictions DataFrame\n",
        "predictions_df = pd.DataFrame(index=X_test.index)\n",
        "\n",
        "# Add the SVM model predictions to the DataFrame\n",
        "predictions_df['Predicted'] = svm_testing_report \n",
        "\n",
        "# Add the actual returns to the DataFrame\n",
        "predictions_df['Actual Returns'] = signals_df[\"Actual Returns\"]\n",
        "\n",
        "# Add the strategy returns to the DataFrame\n",
        "predictions_df['Strategy Returns'] = signals_df[\"Strategy Returns\"]\n",
        "\n",
        "# Review the DataFrame\n",
        "display(predictions_df.head())\n",
        "display(predictions_df.tail())"
      ],
      "execution_count": 52,
      "outputs": [
        {
          "output_type": "display_data",
          "data": {
            "text/html": [
              "<div>\n",
              "<style scoped>\n",
              "    .dataframe tbody tr th:only-of-type {\n",
              "        vertical-align: middle;\n",
              "    }\n",
              "\n",
              "    .dataframe tbody tr th {\n",
              "        vertical-align: top;\n",
              "    }\n",
              "\n",
              "    .dataframe thead th {\n",
              "        text-align: right;\n",
              "    }\n",
              "</style>\n",
              "<table border=\"1\" class=\"dataframe\">\n",
              "  <thead>\n",
              "    <tr style=\"text-align: right;\">\n",
              "      <th></th>\n",
              "      <th>Predicted</th>\n",
              "      <th>Actual Returns</th>\n",
              "      <th>Strategy Returns</th>\n",
              "    </tr>\n",
              "    <tr>\n",
              "      <th>date</th>\n",
              "      <th></th>\n",
              "      <th></th>\n",
              "      <th></th>\n",
              "    </tr>\n",
              "  </thead>\n",
              "  <tbody>\n",
              "    <tr>\n",
              "      <th>2015-07-06 10:00:00</th>\n",
              "      <td>1.0</td>\n",
              "      <td>-0.025715</td>\n",
              "      <td>0.025715</td>\n",
              "    </tr>\n",
              "    <tr>\n",
              "      <th>2015-07-06 10:45:00</th>\n",
              "      <td>1.0</td>\n",
              "      <td>0.007237</td>\n",
              "      <td>-0.007237</td>\n",
              "    </tr>\n",
              "    <tr>\n",
              "      <th>2015-07-06 14:15:00</th>\n",
              "      <td>1.0</td>\n",
              "      <td>-0.009721</td>\n",
              "      <td>-0.009721</td>\n",
              "    </tr>\n",
              "    <tr>\n",
              "      <th>2015-07-06 14:30:00</th>\n",
              "      <td>1.0</td>\n",
              "      <td>-0.003841</td>\n",
              "      <td>0.003841</td>\n",
              "    </tr>\n",
              "    <tr>\n",
              "      <th>2015-07-07 11:30:00</th>\n",
              "      <td>1.0</td>\n",
              "      <td>-0.018423</td>\n",
              "      <td>0.018423</td>\n",
              "    </tr>\n",
              "  </tbody>\n",
              "</table>\n",
              "</div>"
            ],
            "text/plain": [
              "                     Predicted  Actual Returns  Strategy Returns\n",
              "date                                                            \n",
              "2015-07-06 10:00:00        1.0       -0.025715          0.025715\n",
              "2015-07-06 10:45:00        1.0        0.007237         -0.007237\n",
              "2015-07-06 14:15:00        1.0       -0.009721         -0.009721\n",
              "2015-07-06 14:30:00        1.0       -0.003841          0.003841\n",
              "2015-07-07 11:30:00        1.0       -0.018423          0.018423"
            ]
          },
          "metadata": {}
        },
        {
          "output_type": "display_data",
          "data": {
            "text/html": [
              "<div>\n",
              "<style scoped>\n",
              "    .dataframe tbody tr th:only-of-type {\n",
              "        vertical-align: middle;\n",
              "    }\n",
              "\n",
              "    .dataframe tbody tr th {\n",
              "        vertical-align: top;\n",
              "    }\n",
              "\n",
              "    .dataframe thead th {\n",
              "        text-align: right;\n",
              "    }\n",
              "</style>\n",
              "<table border=\"1\" class=\"dataframe\">\n",
              "  <thead>\n",
              "    <tr style=\"text-align: right;\">\n",
              "      <th></th>\n",
              "      <th>Predicted</th>\n",
              "      <th>Actual Returns</th>\n",
              "      <th>Strategy Returns</th>\n",
              "    </tr>\n",
              "    <tr>\n",
              "      <th>date</th>\n",
              "      <th></th>\n",
              "      <th></th>\n",
              "      <th></th>\n",
              "    </tr>\n",
              "  </thead>\n",
              "  <tbody>\n",
              "    <tr>\n",
              "      <th>2021-01-22 09:30:00</th>\n",
              "      <td>1.0</td>\n",
              "      <td>-0.006866</td>\n",
              "      <td>-0.006866</td>\n",
              "    </tr>\n",
              "    <tr>\n",
              "      <th>2021-01-22 11:30:00</th>\n",
              "      <td>1.0</td>\n",
              "      <td>0.002405</td>\n",
              "      <td>-0.002405</td>\n",
              "    </tr>\n",
              "    <tr>\n",
              "      <th>2021-01-22 13:45:00</th>\n",
              "      <td>1.0</td>\n",
              "      <td>0.002099</td>\n",
              "      <td>0.002099</td>\n",
              "    </tr>\n",
              "    <tr>\n",
              "      <th>2021-01-22 14:30:00</th>\n",
              "      <td>1.0</td>\n",
              "      <td>0.001496</td>\n",
              "      <td>0.001496</td>\n",
              "    </tr>\n",
              "    <tr>\n",
              "      <th>2021-01-22 15:45:00</th>\n",
              "      <td>1.0</td>\n",
              "      <td>-0.000896</td>\n",
              "      <td>-0.000896</td>\n",
              "    </tr>\n",
              "  </tbody>\n",
              "</table>\n",
              "</div>"
            ],
            "text/plain": [
              "                     Predicted  Actual Returns  Strategy Returns\n",
              "date                                                            \n",
              "2021-01-22 09:30:00        1.0       -0.006866         -0.006866\n",
              "2021-01-22 11:30:00        1.0        0.002405         -0.002405\n",
              "2021-01-22 13:45:00        1.0        0.002099          0.002099\n",
              "2021-01-22 14:30:00        1.0        0.001496          0.001496\n",
              "2021-01-22 15:45:00        1.0       -0.000896         -0.000896"
            ]
          },
          "metadata": {}
        }
      ]
    },
    {
      "cell_type": "markdown",
      "metadata": {
        "id": "Cuhs_ShgPbzf"
      },
      "source": [
        "### Step 7: Create a cumulative return plot that shows the actual returns vs. the strategy returns. Save a PNG image of this plot. This will serve as a baseline against which to compare the effects of tuning the trading algorithm."
      ]
    },
    {
      "cell_type": "code",
      "metadata": {
        "colab": {
          "base_uri": "https://localhost:8080/",
          "height": 286
        },
        "id": "abeGLsXgPbzf",
        "outputId": "5b377f38-fe03-4deb-f61b-74ff5ca8dd67"
      },
      "source": [
        "# Plot the actual returns versus the strategy returns\n",
        "(1 + predictions_df[[\"Actual Returns\",\"Strategy Returns\"]]).cumprod().plot()"
      ],
      "execution_count": 53,
      "outputs": [
        {
          "output_type": "execute_result",
          "data": {
            "text/plain": [
              "<matplotlib.axes._subplots.AxesSubplot at 0x7fb5fd9627d0>"
            ]
          },
          "metadata": {},
          "execution_count": 53
        },
        {
          "output_type": "display_data",
          "data": {
            "image/png": "[encoded data removed]",
            "text/plain": [
              "<Figure size 432x288 with 1 Axes>"
            ]
          },
          "metadata": {
            "needs_background": "light"
          }
        }
      ]
    },
    {
      "cell_type": "markdown",
      "metadata": {
        "id": "P8COXgQsPbzf"
      },
      "source": [
        "---\n",
        "\n",
        "## Tune the Baseline Trading Algorithm"
      ]
    },
    {
      "cell_type": "markdown",
      "metadata": {
        "id": "iEKEY6FfPbzg"
      },
      "source": [
        "## Step 6: Use an Alternative ML Model and Evaluate Strategy Returns"
      ]
    },
    {
      "cell_type": "markdown",
      "metadata": {
        "id": "_JZEBWSDPbzg"
      },
      "source": [
        "In this section, you’ll tune, or adjust, the model’s input features to find the parameters that result in the best trading outcomes. You’ll choose the best by comparing the cumulative products of the strategy returns."
      ]
    },
    {
      "cell_type": "markdown",
      "metadata": {
        "id": "OkLiX-LnPbzg"
      },
      "source": [
        "### Step 1: Tune the training algorithm by adjusting the size of the training dataset. \n",
        "\n",
        "To do so, slice your data into different periods. Rerun the notebook with the updated parameters, and record the results in your `README.md` file. \n",
        "\n",
        "Answer the following question: What impact resulted from increasing or decreasing the training window?"
      ]
    },
    {
      "cell_type": "markdown",
      "metadata": {
        "id": "Xj_mG9XJPbzg"
      },
      "source": [
        "### Step 2: Tune the trading algorithm by adjusting the SMA input features. \n",
        "\n",
        "Adjust one or both of the windows for the algorithm. Rerun the notebook with the updated parameters, and record the results in your `README.md` file. \n",
        "\n",
        "Answer the following question: What impact resulted from increasing or decreasing either or both of the SMA windows?"
      ]
    },
    {
      "cell_type": "markdown",
      "metadata": {
        "id": "pC0Hz-DmPbzg"
      },
      "source": [
        "### Step 3: Choose the set of parameters that best improved the trading algorithm returns. \n",
        "\n",
        "Save a PNG image of the cumulative product of the actual returns vs. the strategy returns, and document your conclusion in your `README.md` file."
      ]
    },
    {
      "cell_type": "markdown",
      "metadata": {
        "id": "VnLaCQDEPbzg"
      },
      "source": [
        "---\n",
        "\n",
        "## Evaluate a New Machine Learning Classifier\n",
        "\n",
        "In this section, you’ll use the original parameters that the starter code provided. But, you’ll apply them to the performance of a second machine learning model. "
      ]
    },
    {
      "cell_type": "markdown",
      "metadata": {
        "id": "_BT36Q8QPbzh"
      },
      "source": [
        "### Step 1:  Import a new classifier, such as `AdaBoost`, `DecisionTreeClassifier`, or `LogisticRegression`. (For the full list of classifiers, refer to the [Supervised learning page](https://scikit-learn.org/stable/supervised_learning.html) in the scikit-learn documentation.)"
      ]
    },
    {
      "cell_type": "code",
      "metadata": {
        "id": "ehOtciqzPbzh"
      },
      "source": [
        "# Import a new classifier from SKLearn\n",
        "from sklearn.linear_model import LogisticRegression\n",
        "\n",
        "# Initiate the model instance\n",
        "Logistic_Regression_model = LogisticRegression()\n"
      ],
      "execution_count": 54,
      "outputs": []
    },
    {
      "cell_type": "markdown",
      "metadata": {
        "id": "PHAkCFWePbzh"
      },
      "source": [
        "### Step 2: Using the original training data as the baseline model, fit another model with the new classifier."
      ]
    },
    {
      "cell_type": "code",
      "metadata": {
        "colab": {
          "base_uri": "https://localhost:8080/"
        },
        "id": "pzvYsu-pPbzh",
        "outputId": "79de5d51-1865-4f87-d4f5-b30cfb9a06a7"
      },
      "source": [
        "# Fit the model using the training data\n",
        "logistic_model = Logistic_Regression_model.fit(X_train_scaled,y_train)\n",
        "\n",
        "# Use the testing dataset to generate the predictions for the new model\n",
        "training_pred = model.predict(X_test_scaled)\n",
        "\n",
        "# Review the model's predicted values\n",
        "training_pred\n"
      ],
      "execution_count": 58,
      "outputs": [
        {
          "output_type": "execute_result",
          "data": {
            "text/plain": [
              "array([ 1.,  1.,  1., ..., -1., -1., -1.])"
            ]
          },
          "metadata": {},
          "execution_count": 58
        }
      ]
    },
    {
      "cell_type": "markdown",
      "metadata": {
        "id": "U3bPTiFTPbzh"
      },
      "source": [
        "### Step 3: Backtest the new model to evaluate its performance. \n",
        "\n",
        "Save a PNG image of the cumulative product of the actual returns vs. the strategy returns for this updated trading algorithm, and write your conclusions in your `README.md` file. \n",
        "\n",
        "Answer the following questions: \n",
        "Did this new model perform better or worse than the provided baseline model? \n",
        "Did this new model perform better or worse than your tuned trading algorithm?"
      ]
    },
    {
      "cell_type": "code",
      "metadata": {
        "colab": {
          "base_uri": "https://localhost:8080/"
        },
        "id": "VlYL6weHPbzi",
        "outputId": "af6bcd74-76e4-4de0-8c8d-e8791a56ebf1"
      },
      "source": [
        "# Use a classification report to evaluate the model using the predictions and testing data\n",
        "training_pred_report = classification_report(y_test,training_pred)\n",
        "\n",
        "# Print the classification report\n",
        "print(training_pred_report)\n"
      ],
      "execution_count": 61,
      "outputs": [
        {
          "output_type": "stream",
          "name": "stdout",
          "text": [
            "              precision    recall  f1-score   support\n",
            "\n",
            "        -1.0       0.44      0.33      0.38      1804\n",
            "         1.0       0.56      0.66      0.61      2288\n",
            "\n",
            "    accuracy                           0.52      4092\n",
            "   macro avg       0.50      0.50      0.49      4092\n",
            "weighted avg       0.51      0.52      0.51      4092\n",
            "\n"
          ]
        }
      ]
    },
    {
      "cell_type": "code",
      "metadata": {
        "colab": {
          "base_uri": "https://localhost:8080/",
          "height": 450
        },
        "id": "lhqmBPzePbzi",
        "outputId": "610f2cff-a040-40a5-edd5-099b0309afa9"
      },
      "source": [
        "# Create a new empty predictions DataFrame.\n",
        "\n",
        "# Create a predictions DataFrame\n",
        "data_predictions_df = pd.DataFrame(index=X_test.index)\n",
        "\n",
        "# Add the SVM model predictions to the DataFrame\n",
        "data_predictions_df['Predicted'] = svm_testing_report \n",
        "\n",
        "# Add the actual returns to the DataFrame\n",
        "data_predictions_df['Actual Returns'] = signals_df[\"Actual Returns\"]\n",
        "\n",
        "# Add the strategy returns to the DataFrame\n",
        "data_predictions_df['Strategy Returns'] = signals_df[\"Strategy Returns\"]\n",
        "\n",
        "# Review the DataFrame\n",
        "data_predictions_df\n"
      ],
      "execution_count": 62,
      "outputs": [
        {
          "output_type": "execute_result",
          "data": {
            "text/html": [
              "<div>\n",
              "<style scoped>\n",
              "    .dataframe tbody tr th:only-of-type {\n",
              "        vertical-align: middle;\n",
              "    }\n",
              "\n",
              "    .dataframe tbody tr th {\n",
              "        vertical-align: top;\n",
              "    }\n",
              "\n",
              "    .dataframe thead th {\n",
              "        text-align: right;\n",
              "    }\n",
              "</style>\n",
              "<table border=\"1\" class=\"dataframe\">\n",
              "  <thead>\n",
              "    <tr style=\"text-align: right;\">\n",
              "      <th></th>\n",
              "      <th>Predicted</th>\n",
              "      <th>Actual Returns</th>\n",
              "      <th>Strategy Returns</th>\n",
              "    </tr>\n",
              "    <tr>\n",
              "      <th>date</th>\n",
              "      <th></th>\n",
              "      <th></th>\n",
              "      <th></th>\n",
              "    </tr>\n",
              "  </thead>\n",
              "  <tbody>\n",
              "    <tr>\n",
              "      <th>2015-07-06 10:00:00</th>\n",
              "      <td>1.0</td>\n",
              "      <td>-0.025715</td>\n",
              "      <td>0.025715</td>\n",
              "    </tr>\n",
              "    <tr>\n",
              "      <th>2015-07-06 10:45:00</th>\n",
              "      <td>1.0</td>\n",
              "      <td>0.007237</td>\n",
              "      <td>-0.007237</td>\n",
              "    </tr>\n",
              "    <tr>\n",
              "      <th>2015-07-06 14:15:00</th>\n",
              "      <td>1.0</td>\n",
              "      <td>-0.009721</td>\n",
              "      <td>-0.009721</td>\n",
              "    </tr>\n",
              "    <tr>\n",
              "      <th>2015-07-06 14:30:00</th>\n",
              "      <td>1.0</td>\n",
              "      <td>-0.003841</td>\n",
              "      <td>0.003841</td>\n",
              "    </tr>\n",
              "    <tr>\n",
              "      <th>2015-07-07 11:30:00</th>\n",
              "      <td>1.0</td>\n",
              "      <td>-0.018423</td>\n",
              "      <td>0.018423</td>\n",
              "    </tr>\n",
              "    <tr>\n",
              "      <th>...</th>\n",
              "      <td>...</td>\n",
              "      <td>...</td>\n",
              "      <td>...</td>\n",
              "    </tr>\n",
              "    <tr>\n",
              "      <th>2021-01-22 09:30:00</th>\n",
              "      <td>1.0</td>\n",
              "      <td>-0.006866</td>\n",
              "      <td>-0.006866</td>\n",
              "    </tr>\n",
              "    <tr>\n",
              "      <th>2021-01-22 11:30:00</th>\n",
              "      <td>1.0</td>\n",
              "      <td>0.002405</td>\n",
              "      <td>-0.002405</td>\n",
              "    </tr>\n",
              "    <tr>\n",
              "      <th>2021-01-22 13:45:00</th>\n",
              "      <td>1.0</td>\n",
              "      <td>0.002099</td>\n",
              "      <td>0.002099</td>\n",
              "    </tr>\n",
              "    <tr>\n",
              "      <th>2021-01-22 14:30:00</th>\n",
              "      <td>1.0</td>\n",
              "      <td>0.001496</td>\n",
              "      <td>0.001496</td>\n",
              "    </tr>\n",
              "    <tr>\n",
              "      <th>2021-01-22 15:45:00</th>\n",
              "      <td>1.0</td>\n",
              "      <td>-0.000896</td>\n",
              "      <td>-0.000896</td>\n",
              "    </tr>\n",
              "  </tbody>\n",
              "</table>\n",
              "<p>4092 rows × 3 columns</p>\n",
              "</div>"
            ],
            "text/plain": [
              "                     Predicted  Actual Returns  Strategy Returns\n",
              "date                                                            \n",
              "2015-07-06 10:00:00        1.0       -0.025715          0.025715\n",
              "2015-07-06 10:45:00        1.0        0.007237         -0.007237\n",
              "2015-07-06 14:15:00        1.0       -0.009721         -0.009721\n",
              "2015-07-06 14:30:00        1.0       -0.003841          0.003841\n",
              "2015-07-07 11:30:00        1.0       -0.018423          0.018423\n",
              "...                        ...             ...               ...\n",
              "2021-01-22 09:30:00        1.0       -0.006866         -0.006866\n",
              "2021-01-22 11:30:00        1.0        0.002405         -0.002405\n",
              "2021-01-22 13:45:00        1.0        0.002099          0.002099\n",
              "2021-01-22 14:30:00        1.0        0.001496          0.001496\n",
              "2021-01-22 15:45:00        1.0       -0.000896         -0.000896\n",
              "\n",
              "[4092 rows x 3 columns]"
            ]
          },
          "metadata": {},
          "execution_count": 62
        }
      ]
    },
    {
      "cell_type": "code",
      "metadata": {
        "colab": {
          "base_uri": "https://localhost:8080/",
          "height": 286
        },
        "id": "BKVlUasqPbzi",
        "outputId": "d4abecde-f67b-402b-9fe7-fe5892dad5c1"
      },
      "source": [
        "# Plot the actual returns versus the strategy returns\n",
        "(1 + data_predictions_df[[\"Actual Returns\",\"Strategy Returns\"]]).cumprod().plot()"
      ],
      "execution_count": 63,
      "outputs": [
        {
          "output_type": "execute_result",
          "data": {
            "text/plain": [
              "<matplotlib.axes._subplots.AxesSubplot at 0x7fb5fd852dd0>"
            ]
          },
          "metadata": {},
          "execution_count": 63
        },
        {
          "output_type": "display_data",
          "data": {
            "image/png": "[encoded data removed]",
            "text/plain": [
              "<Figure size 432x288 with 1 Axes>"
            ]
          },
          "metadata": {
            "needs_background": "light"
          }
        }
      ]
    },
    {
      "cell_type": "code",
      "metadata": {
        "id": "A9291HJ5Pbzj"
      },
      "source": [
        ""
      ],
      "execution_count": null,
      "outputs": []
    }
  ]
}