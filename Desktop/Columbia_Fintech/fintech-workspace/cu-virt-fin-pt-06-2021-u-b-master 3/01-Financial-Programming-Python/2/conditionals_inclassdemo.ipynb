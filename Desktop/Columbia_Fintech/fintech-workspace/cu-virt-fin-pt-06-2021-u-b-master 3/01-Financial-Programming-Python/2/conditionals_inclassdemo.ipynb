{
 "cells": [
  {
   "cell_type": "code",
   "execution_count": 1,
   "id": "f21080fa-18aa-4425-960b-90b49c115818",
   "metadata": {},
   "outputs": [
    {
     "name": "stdout",
     "output_type": "stream",
     "text": [
      "hello world\n"
     ]
    }
   ],
   "source": [
    "print(\"hello world\")"
   ]
  },
  {
   "cell_type": "code",
   "execution_count": 2,
   "id": "03568efe-b465-480a-8c6d-de8434e44eeb",
   "metadata": {},
   "outputs": [],
   "source": [
    "has_insurance = False"
   ]
  },
  {
   "cell_type": "code",
   "execution_count": 3,
   "id": "239d070a-44d2-4cbd-b3de-2a31128a911a",
   "metadata": {},
   "outputs": [
    {
     "name": "stdout",
     "output_type": "stream",
     "text": [
      "already has insurance.  do not offer\n"
     ]
    }
   ],
   "source": [
    "# incorrect\n",
    "if True:\n",
    "    print(\"already has insurance.  do not offer\")\n",
    "else:\n",
    "    print(\"offer insurance\")"
   ]
  },
  {
   "cell_type": "code",
   "execution_count": 4,
   "id": "43d9b07e-fe24-4c77-afd9-b30005618e9b",
   "metadata": {},
   "outputs": [
    {
     "name": "stdout",
     "output_type": "stream",
     "text": [
      "offer insurance\n"
     ]
    }
   ],
   "source": [
    "if has_insurance == True:\n",
    "    print(\"already has insurance.  do not offer\")\n",
    "else:\n",
    "    print(\"offer insurance\")"
   ]
  },
  {
   "cell_type": "code",
   "execution_count": 5,
   "id": "7e42663a-54f5-4a3c-bedd-05f6e0f98444",
   "metadata": {},
   "outputs": [
    {
     "name": "stdout",
     "output_type": "stream",
     "text": [
      "offer insurance\n"
     ]
    }
   ],
   "source": [
    "if has_insurance:\n",
    "    print(\"already has insurance.  do not offer\")\n",
    "else:\n",
    "    print(\"offer insurance\")"
   ]
  },
  {
   "cell_type": "code",
   "execution_count": 6,
   "id": "9bde3ee7-413d-4f8e-9f7a-0a5f9f138d2b",
   "metadata": {},
   "outputs": [
    {
     "name": "stdout",
     "output_type": "stream",
     "text": [
      "yes\n"
     ]
    }
   ],
   "source": [
    "has_insurance = False\n",
    "\n",
    "if not has_insurance:\n",
    "    offer = \"yes\"\n",
    "else:\n",
    "    offer = \"no\"\n",
    "    \n",
    "print(offer)"
   ]
  },
  {
   "cell_type": "code",
   "execution_count": 7,
   "id": "56dba175-b002-4de9-b693-a6912f217f4c",
   "metadata": {},
   "outputs": [
    {
     "name": "stdout",
     "output_type": "stream",
     "text": [
      "wow!\n"
     ]
    }
   ],
   "source": [
    "credit_score = 800\n",
    "\n",
    "if credit_score == 800:\n",
    "    print(\"wow!\")"
   ]
  },
  {
   "cell_type": "code",
   "execution_count": 8,
   "id": "7f7dee0c-5f51-48c6-a820-b3514586a727",
   "metadata": {},
   "outputs": [
    {
     "name": "stdout",
     "output_type": "stream",
     "text": [
      "do you need auto insurance too?\n"
     ]
    }
   ],
   "source": [
    "insurance_type = \"home\"\n",
    "\n",
    "if insurance_type == \"auto\":\n",
    "    print(\"do you need home insurance too?\")\n",
    "else:\n",
    "    print(\"do you need auto insurance too?\")"
   ]
  },
  {
   "cell_type": "code",
   "execution_count": 10,
   "id": "81bf586c-478e-429d-9e69-368c8bc9f2ce",
   "metadata": {},
   "outputs": [],
   "source": [
    "credit_score = 800\n",
    "\n",
    "if credit_score != 800:\n",
    "    print(\"you need to work on your credit score!\")"
   ]
  },
  {
   "cell_type": "code",
   "execution_count": 15,
   "id": "61e2f48a-207d-416b-bda9-26c421be14dc",
   "metadata": {},
   "outputs": [
    {
     "name": "stdout",
     "output_type": "stream",
     "text": [
      "do you need auto insurance\n"
     ]
    }
   ],
   "source": [
    "insurance_type = \"home\"\n",
    "credit_score = 600\n",
    "\n",
    "if insurance_type == \"home\":\n",
    "    if credit_score == 800:\n",
    "        print(\"do you need life insurance?\")\n",
    "    elif credit_score > 400 & credit_score < 800:\n",
    "        print(\"do you need auto insurance\")\n",
    "    else:\n",
    "        print(\"you need to work on your credit score\")"
   ]
  },
  {
   "cell_type": "code",
   "execution_count": null,
   "id": "e5a4f162-cac6-4b58-b494-80493a035fe9",
   "metadata": {},
   "outputs": [],
   "source": []
  }
 ],
 "metadata": {
  "kernelspec": {
   "display_name": "Python 3",
   "language": "python",
   "name": "python3"
  },
  "language_info": {
   "codemirror_mode": {
    "name": "ipython",
    "version": 3
   },
   "file_extension": ".py",
   "mimetype": "text/x-python",
   "name": "python",
   "nbconvert_exporter": "python",
   "pygments_lexer": "ipython3",
   "version": "3.8.8"
  }
 },
 "nbformat": 4,
 "nbformat_minor": 5
}
