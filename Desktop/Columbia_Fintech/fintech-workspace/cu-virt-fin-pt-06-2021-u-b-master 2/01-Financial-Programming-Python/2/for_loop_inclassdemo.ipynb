{
 "cells": [
  {
   "cell_type": "code",
   "execution_count": 1,
   "id": "b4309517-645a-4736-88c7-2fff8eac8dec",
   "metadata": {},
   "outputs": [
    {
     "name": "stdout",
     "output_type": "stream",
     "text": [
      "1\n"
     ]
    }
   ],
   "source": [
    "print(1)"
   ]
  },
  {
   "cell_type": "code",
   "execution_count": 2,
   "id": "a5ad630c-12be-4712-ade4-4bdfb4d02284",
   "metadata": {},
   "outputs": [
    {
     "name": "stdout",
     "output_type": "stream",
     "text": [
      "2\n"
     ]
    }
   ],
   "source": [
    "print(2)"
   ]
  },
  {
   "cell_type": "code",
   "execution_count": 3,
   "id": "d049cb3a-69ee-48c4-9ee9-90ce85df44cc",
   "metadata": {},
   "outputs": [
    {
     "name": "stdout",
     "output_type": "stream",
     "text": [
      "3\n"
     ]
    }
   ],
   "source": [
    "print(3)"
   ]
  },
  {
   "cell_type": "code",
   "execution_count": 4,
   "id": "2a5a88ea-85aa-4b24-8b77-22b09f70030b",
   "metadata": {},
   "outputs": [
    {
     "name": "stdout",
     "output_type": "stream",
     "text": [
      "4\n"
     ]
    }
   ],
   "source": [
    "print(4)"
   ]
  },
  {
   "cell_type": "code",
   "execution_count": 5,
   "id": "a5d049f5-7198-42d0-805c-0efce3c31368",
   "metadata": {},
   "outputs": [
    {
     "name": "stdout",
     "output_type": "stream",
     "text": [
      "5\n"
     ]
    }
   ],
   "source": [
    "print(5)"
   ]
  },
  {
   "cell_type": "code",
   "execution_count": 6,
   "id": "4d7efc51-fbe0-48c8-a93c-4e569facda4a",
   "metadata": {},
   "outputs": [
    {
     "name": "stdout",
     "output_type": "stream",
     "text": [
      "0\n",
      "1\n",
      "2\n",
      "3\n",
      "4\n"
     ]
    }
   ],
   "source": [
    "for x in range(5):\n",
    "    print(x)"
   ]
  },
  {
   "cell_type": "code",
   "execution_count": 9,
   "id": "a65db21f-5cbc-429f-89fa-1615ddc05c56",
   "metadata": {},
   "outputs": [
    {
     "name": "stdout",
     "output_type": "stream",
     "text": [
      "1\n",
      "2\n",
      "3\n",
      "4\n",
      "5\n"
     ]
    }
   ],
   "source": [
    "for x in range(1, 6):\n",
    "    print(x)"
   ]
  },
  {
   "cell_type": "code",
   "execution_count": 10,
   "id": "89ceeba8-2cab-4244-8fd8-48a337239f8c",
   "metadata": {},
   "outputs": [
    {
     "name": "stdout",
     "output_type": "stream",
     "text": [
      "B\n",
      "i\n",
      "t\n",
      "c\n",
      "o\n",
      "i\n",
      "n\n",
      " \n",
      "i\n",
      "s\n",
      " \n",
      "f\n",
      "a\n",
      "l\n",
      "l\n",
      "i\n",
      "n\n",
      "g\n",
      "!\n"
     ]
    }
   ],
   "source": [
    "word = \"Bitcoin is falling!\"\n",
    "for letter in word:\n",
    "    print(letter)"
   ]
  },
  {
   "cell_type": "code",
   "execution_count": 12,
   "id": "c4a18e7c-95a2-4639-9aa0-8a476aaa7ee0",
   "metadata": {},
   "outputs": [
    {
     "name": "stdout",
     "output_type": "stream",
     "text": [
      "Current entry value:  100\n",
      "Current total: $ 100\n",
      "-----\n",
      "Current entry value:  150\n",
      "Current total: $ 250\n",
      "-----\n",
      "Current entry value:  200\n",
      "Current total: $ 450\n",
      "-----\n",
      "Current entry value:  225\n",
      "Current total: $ 675\n",
      "-----\n",
      "Current entry value:  375\n",
      "Current total: $ 1050\n",
      "-----\n",
      "Current entry value:  400\n",
      "Current total: $ 1450\n",
      "-----\n",
      "1450\n"
     ]
    }
   ],
   "source": [
    "pnl_log = [100, 150, 200, 225, 375, 400]\n",
    "pnl_total = 0\n",
    "\n",
    "for entry in pnl_log:\n",
    "    print(\"Current entry value: \", entry)\n",
    "    pnl_total = pnl_total + entry\n",
    "    print(\"Current total: $\", pnl_total)\n",
    "    print(\"-----\")\n",
    "    \n",
    "print(pnl_total)"
   ]
  },
  {
   "cell_type": "code",
   "execution_count": 13,
   "id": "950105f4-150a-45b3-a705-b5ba4627fa67",
   "metadata": {},
   "outputs": [
    {
     "name": "stdout",
     "output_type": "stream",
     "text": [
      "Current entry value:  100\n",
      "Current total: $ 100\n",
      "-----\n",
      "Current entry value:  150\n",
      "Current total: $ 250\n",
      "-----\n",
      "Current entry value:  200\n",
      "Current total: $ 450\n",
      "-----\n",
      "Current entry value:  225\n",
      "Current total: $ 675\n",
      "-----\n",
      "Current entry value:  375\n",
      "Current total: $ 1050\n",
      "-----\n",
      "Current entry value:  400\n",
      "Current total: $ 1450\n",
      "-----\n",
      "1450\n"
     ]
    }
   ],
   "source": [
    "pnl_log = [100, 150, 200, 225, 375, 400]\n",
    "pnl_total = 0\n",
    "\n",
    "for entry in pnl_log:\n",
    "    print(\"Current entry value: \", entry)\n",
    "    pnl_total += entry\n",
    "    print(\"Current total: $\", pnl_total)\n",
    "    print(\"-----\")\n",
    "    \n",
    "print(pnl_total)"
   ]
  },
  {
   "cell_type": "code",
   "execution_count": 14,
   "id": "46767584-6012-4bf8-8a4a-f3667e1b2aa7",
   "metadata": {},
   "outputs": [
    {
     "name": "stdout",
     "output_type": "stream",
     "text": [
      "Current entry value:  1\n",
      "Current total: $ 100\n",
      "-----\n",
      "Current entry value:  2\n",
      "Current total: $ 250\n",
      "-----\n",
      "Current entry value:  3\n",
      "Current total: $ 450\n",
      "-----\n",
      "Current entry value:  4\n",
      "Current total: $ 675\n",
      "-----\n",
      "Current entry value:  5\n",
      "Current total: $ 1050\n",
      "-----\n",
      "Current entry value:  6\n",
      "Current total: $ 1450\n",
      "-----\n",
      "1450\n"
     ]
    }
   ],
   "source": [
    "pnl_log = {\n",
    "    1: 100, \n",
    "    2: 150, \n",
    "    3: 200, \n",
    "    4: 225, \n",
    "    5: 375, \n",
    "    6: 400\n",
    "}\n",
    "pnl_total = 0\n",
    "\n",
    "for entry in pnl_log:\n",
    "    print(\"Current entry value: \", entry)\n",
    "    pnl_total += pnl_log[entry]\n",
    "    print(\"Current total: $\", pnl_total)\n",
    "    print(\"-----\")\n",
    "    \n",
    "print(pnl_total)"
   ]
  },
  {
   "cell_type": "code",
   "execution_count": null,
   "id": "ea33ad6c-1d3c-43d0-8bec-638a6c61aa2f",
   "metadata": {},
   "outputs": [],
   "source": []
  },
  {
   "cell_type": "code",
   "execution_count": null,
   "id": "2116e068-8a90-4428-b807-a7148019c567",
   "metadata": {},
   "outputs": [],
   "source": []
  }
 ],
 "metadata": {
  "kernelspec": {
   "display_name": "Python 3",
   "language": "python",
   "name": "python3"
  },
  "language_info": {
   "codemirror_mode": {
    "name": "ipython",
    "version": 3
   },
   "file_extension": ".py",
   "mimetype": "text/x-python",
   "name": "python",
   "nbconvert_exporter": "python",
   "pygments_lexer": "ipython3",
   "version": "3.8.8"
  }
 },
 "nbformat": 4,
 "nbformat_minor": 5
}
